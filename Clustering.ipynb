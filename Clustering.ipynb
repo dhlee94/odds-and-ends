{
 "cells": [
  {
   "cell_type": "code",
   "execution_count": 1,
   "metadata": {},
   "outputs": [],
   "source": [
    "import torch\n",
    "import torch.nn as nn\n",
    "import importlib"
   ]
  },
  {
   "cell_type": "code",
   "execution_count": 2,
   "metadata": {},
   "outputs": [],
   "source": [
    "from sklearn.decomposition import PCA\n",
    "from sklearn.manifold import TSNE\n",
    "from sklearn.cluster import KMeans, DBSCAN\n",
    "from sklearn.preprocessing import StandardScaler\n",
    "def fit_pca(img, pca):\n",
    "    return pca.fit_transform(img)\n",
    "\n",
    "def dbscan_clustering(min_samples=5):\n",
    "    return DBSCAN(min_samples=min_samples)\n",
    "\n",
    "def normalization(data):\n",
    "    scaler = StandardScaler()\n",
    "    return scaler.fit_transform(data)\n",
    "\n",
    "def tsne_visualization(n_components=2, perplexity=30.0, learning_rate='auto', verbose=1):\n",
    "    return TSNE(n_components=n_components, perplexity=perplexity, learning_rate=learning_rate, verbose=verbose)\n",
    "\n",
    "def clustering_result(kmeans, n_categorys):\n",
    "    image_cluster_dict = {}\n",
    "    image_cluster_categorys = {}\n",
    "    for i, m in enumerate(kmeans):\n",
    "        image_cluster_dict[f'{m}'] = 0\n",
    "        image_cluster_categorys[f'{m}'] = np.zeros(2)       \n",
    "    for i, m in enumerate(kmeans):\n",
    "        image_cluster_dict[f'{m}'] += 1\n",
    "        image_cluster_categorys[f'{m}'][n_categorys[i]] += 1        \n",
    "    for i in image_cluster_dict:\n",
    "        image_cluster_dict[f'{i}'] = round(image_cluster_dict[f'{i}']/len(n_categorys), 2)\n",
    "    return image_cluster_dict, image_cluster_categorys"
   ]
  },
  {
   "cell_type": "code",
   "execution_count": 3,
   "metadata": {},
   "outputs": [],
   "source": [
    "mod = importlib.import_module('torchvision.models')\n",
    "model = mod.resnet18(pretrained=True)\n",
    "model.fc = nn.Identity()"
   ]
  },
  {
   "cell_type": "code",
   "execution_count": 4,
   "metadata": {},
   "outputs": [],
   "source": [
    "def normalize(data):\n",
    "    min_value = torch.min(data)\n",
    "    max_value = torch.max(data)\n",
    "    return (data-min_value)/(max_value-min_value)"
   ]
  },
  {
   "cell_type": "code",
   "execution_count": 5,
   "metadata": {},
   "outputs": [],
   "source": [
    "import os\n",
    "path = 'D:/kaggle-Fruit-Dataset'\n",
    "folder_lists = [os.path.join(path, folder) for folder in os.listdir(path)]\n",
    "image_lists = []\n",
    "for folder in folder_lists:\n",
    "    image_lists.extend([os.path.join(folder, name) for name in os.listdir(folder)])"
   ]
  },
  {
   "cell_type": "code",
   "execution_count": 6,
   "metadata": {},
   "outputs": [],
   "source": [
    "from PIL import Image\n",
    "import numpy as np\n",
    "\n",
    "data_lists = []\n",
    "for image_path in image_lists:\n",
    "    image = Image.open(image_path).convert('RGB')\n",
    "    image = np.array(image)\n",
    "    data_lists.append(image)\n"
   ]
  },
  {
   "cell_type": "code",
   "execution_count": 7,
   "metadata": {},
   "outputs": [
    {
     "name": "stdout",
     "output_type": "stream",
     "text": [
      "2607\n"
     ]
    }
   ],
   "source": [
    "print(len(data_lists))"
   ]
  },
  {
   "cell_type": "code",
   "execution_count": 8,
   "metadata": {},
   "outputs": [],
   "source": [
    "batch_size = 16\n",
    "input = []\n",
    "result = []\n",
    "for idx, data in enumerate(data_lists):\n",
    "    tmp = torch.FloatTensor(data)\n",
    "    tmp = normalize(tmp)\n",
    "    input.append(tmp.permute(2, 0, 1))\n",
    "    if len(input)==batch_size or idx==len(data_lists)-1:\n",
    "        input = torch.stack(input, dim=0)\n",
    "        result.extend(model(input).detach().cpu().numpy())\n",
    "        input = []"
   ]
  },
  {
   "cell_type": "code",
   "execution_count": 9,
   "metadata": {},
   "outputs": [
    {
     "name": "stdout",
     "output_type": "stream",
     "text": [
      "(2607, 512)\n"
     ]
    }
   ],
   "source": [
    "result = np.stack(result, axis=0)\n",
    "print(result.shape)"
   ]
  },
  {
   "cell_type": "code",
   "execution_count": 10,
   "metadata": {},
   "outputs": [],
   "source": [
    "pca = PCA(n_components=100)\n",
    "pca_result = fit_pca(result, pca)\n",
    "norm_result = normalization(pca_result)"
   ]
  },
  {
   "cell_type": "code",
   "execution_count": 11,
   "metadata": {},
   "outputs": [
    {
     "ename": "TypeError",
     "evalue": "'KMeans' object is not callable",
     "output_type": "error",
     "traceback": [
      "\u001b[1;31m---------------------------------------------------------------------------\u001b[0m",
      "\u001b[1;31mTypeError\u001b[0m                                 Traceback (most recent call last)",
      "\u001b[1;32m~\\AppData\\Local\\Temp/ipykernel_12108/150710254.py\u001b[0m in \u001b[0;36m<module>\u001b[1;34m\u001b[0m\n\u001b[0;32m      1\u001b[0m \u001b[0mclustering\u001b[0m \u001b[1;33m=\u001b[0m \u001b[0mkmeans_clustering\u001b[0m\u001b[1;33m(\u001b[0m\u001b[0mnumber_clusters\u001b[0m\u001b[1;33m=\u001b[0m\u001b[1;36m6\u001b[0m\u001b[1;33m,\u001b[0m \u001b[0mrandom_state\u001b[0m\u001b[1;33m=\u001b[0m\u001b[1;36m1\u001b[0m\u001b[1;33m)\u001b[0m\u001b[1;33m\u001b[0m\u001b[1;33m\u001b[0m\u001b[0m\n\u001b[1;32m----> 2\u001b[1;33m \u001b[0mclustering_result\u001b[0m \u001b[1;33m=\u001b[0m \u001b[0mclustering\u001b[0m\u001b[1;33m(\u001b[0m\u001b[0mnorm_result\u001b[0m\u001b[1;33m)\u001b[0m\u001b[1;33m\u001b[0m\u001b[1;33m\u001b[0m\u001b[0m\n\u001b[0m",
      "\u001b[1;31mTypeError\u001b[0m: 'KMeans' object is not callable"
     ]
    }
   ],
   "source": [
    "clustering = kmeans_clustering(number_clusters=6, random_state=1)\n",
    "clustering_result = clustering(norm_result)"
   ]
  },
  {
   "cell_type": "code",
   "execution_count": null,
   "metadata": {},
   "outputs": [],
   "source": []
  },
  {
   "cell_type": "code",
   "execution_count": null,
   "metadata": {},
   "outputs": [],
   "source": [
    "pca_result.shape"
   ]
  },
  {
   "cell_type": "code",
   "execution_count": null,
   "metadata": {},
   "outputs": [],
   "source": []
  }
 ],
 "metadata": {
  "kernelspec": {
   "display_name": "ldh",
   "language": "python",
   "name": "python3"
  },
  "language_info": {
   "codemirror_mode": {
    "name": "ipython",
    "version": 3
   },
   "file_extension": ".py",
   "mimetype": "text/x-python",
   "name": "python",
   "nbconvert_exporter": "python",
   "pygments_lexer": "ipython3",
   "version": "3.7.9"
  },
  "orig_nbformat": 4
 },
 "nbformat": 4,
 "nbformat_minor": 2
}
